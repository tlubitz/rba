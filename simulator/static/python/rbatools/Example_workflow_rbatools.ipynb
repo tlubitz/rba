{
 "cells": [
  {
   "cell_type": "code",
   "execution_count": 1,
   "metadata": {},
   "outputs": [
    {
     "output_type": "error",
     "ename": "Error",
     "evalue": "Jupyter cannot be started. Error attempting to locate jupyter: Data Science libraries jupyter and notebook are not installed in interpreter Python 3.8.3 64-bit ('base': conda).",
     "traceback": [
      "Error: Jupyter cannot be started. Error attempting to locate jupyter: Data Science libraries jupyter and notebook are not installed in interpreter Python 3.8.3 64-bit ('base': conda).",
      "at b.startServer (/home/timo/.vscode/extensions/ms-python.python-2020.8.109390/out/client/extension.js:56:315241)",
      "at runMicrotasks (<anonymous>)",
      "at processTicksAndRejections (internal/process/task_queues.js:85:5)",
      "at async b.createServer (/home/timo/.vscode/extensions/ms-python.python-2020.8.109390/out/client/extension.js:56:314683)",
      "at async connect (/home/timo/.vscode/extensions/ms-python.python-2020.8.109390/out/client/extension.js:56:442783)",
      "at async f.ensureConnectionAndNotebookImpl (/home/timo/.vscode/extensions/ms-python.python-2020.8.109390/out/client/extension.js:32:91466)",
      "at async f.ensureConnectionAndNotebook (/home/timo/.vscode/extensions/ms-python.python-2020.8.109390/out/client/extension.js:32:90768)",
      "at async f.clearResult (/home/timo/.vscode/extensions/ms-python.python-2020.8.109390/out/client/extension.js:32:86570)",
      "at async f.reexecuteCell (/home/timo/.vscode/extensions/ms-python.python-2020.8.109390/out/client/extension.js:9:123891)",
      "at async f.reexecuteCells (/home/timo/.vscode/extensions/ms-python.python-2020.8.109390/out/client/extension.js:9:120414)"
     ]
    }
   ],
   "source": [
    "from rbatools.rba_Session import RBA_Session\n",
    "import matplotlib.pyplot as plt\n",
    "import pandas"
   ]
  },
  {
   "cell_type": "markdown",
   "metadata": {},
   "source": [
    "# Load E.coli model "
   ]
  },
  {
   "cell_type": "code",
   "execution_count": null,
   "metadata": {},
   "outputs": [
    {
     "output_type": "error",
     "ename": "Error",
     "evalue": "Jupyter cannot be started. Error attempting to locate jupyter: Data Science libraries jupyter and notebook are not installed in interpreter Python 3.8.3 64-bit ('base': conda).",
     "traceback": [
      "Error: Jupyter cannot be started. Error attempting to locate jupyter: Data Science libraries jupyter and notebook are not installed in interpreter Python 3.8.3 64-bit ('base': conda).",
      "at b.startServer (/home/timo/.vscode/extensions/ms-python.python-2020.8.109390/out/client/extension.js:56:315241)",
      "at runMicrotasks (<anonymous>)",
      "at processTicksAndRejections (internal/process/task_queues.js:85:5)",
      "at async b.createServer (/home/timo/.vscode/extensions/ms-python.python-2020.8.109390/out/client/extension.js:56:314683)",
      "at async connect (/home/timo/.vscode/extensions/ms-python.python-2020.8.109390/out/client/extension.js:56:442783)",
      "at async f.ensureConnectionAndNotebookImpl (/home/timo/.vscode/extensions/ms-python.python-2020.8.109390/out/client/extension.js:32:91466)",
      "at async f.ensureConnectionAndNotebook (/home/timo/.vscode/extensions/ms-python.python-2020.8.109390/out/client/extension.js:32:90768)",
      "at async f.clearResult (/home/timo/.vscode/extensions/ms-python.python-2020.8.109390/out/client/extension.js:32:86570)",
      "at async f.reexecuteCell (/home/timo/.vscode/extensions/ms-python.python-2020.8.109390/out/client/extension.js:9:123891)",
      "at async f.reexecuteCells (/home/timo/.vscode/extensions/ms-python.python-2020.8.109390/out/client/extension.js:9:120414)"
     ]
    }
   ],
   "source": [
    "model_filename = 'Bacterial-RBA-models/Escherichia-coli-K12-WT'\n",
    "Simulation = RBA_Session(model_filename)\n"
   ]
  },
  {
   "cell_type": "markdown",
   "metadata": {},
   "source": [
    "# Exporting a tabular represention for the structure of the model in the SBtab-format, for inspection in Excel etc..."
   ]
  },
  {
   "cell_type": "code",
   "execution_count": null,
   "metadata": {},
   "outputs": [],
   "source": [
    "Simulation.ModelStructure.exportSBtab(filename='Structure_Ecoli_RBA_Model')"
   ]
  },
  {
   "cell_type": "markdown",
   "metadata": {},
   "source": [
    "# Setting medium, finding maximum growth-rate and handle simulation-results"
   ]
  },
  {
   "cell_type": "markdown",
   "metadata": {},
   "source": [
    "## Perform growth-rate optimisation for different glucose-concentrations and record the corresponding simulation-results"
   ]
  },
  {
   "cell_type": "code",
   "execution_count": null,
   "metadata": {},
   "outputs": [],
   "source": [
    "Simulation.setMedium({'M_glc__D':0.2})\n",
    "Simulation.findMaxGrowthRate()\n",
    "Simulation.recordResults('Glc_02')\n",
    "\n",
    "Simulation.setMedium({'M_glc__D':0.4})\n",
    "Simulation.findMaxGrowthRate()\n",
    "Simulation.recordResults('Glc_04')\n",
    "\n",
    "Simulation.setMedium({'M_glc__D':0.6})\n",
    "Simulation.findMaxGrowthRate()\n",
    "Simulation.recordResults('Glc_06')\n",
    "\n",
    "Simulation.setMedium({'M_glc__D':0.8})\n",
    "Simulation.findMaxGrowthRate()\n",
    "Simulation.recordResults('Glc_08')\n",
    "\n",
    "Simulation.setMedium({'M_glc__D':1})\n",
    "Simulation.findMaxGrowthRate()\n",
    "Simulation.recordResults('Glc_1')\n",
    "\n",
    "Simulation.writeResults()\n",
    "\n"
   ]
  },
  {
   "cell_type": "markdown",
   "metadata": {},
   "source": [
    "## Export Results as single SBtab-file"
   ]
  },
  {
   "cell_type": "code",
   "execution_count": null,
   "metadata": {},
   "outputs": [],
   "source": [
    "Simulation.SimulationData.exportSBtab(filename_SBtab='Ecoli_GlucoseScreen')"
   ]
  },
  {
   "cell_type": "markdown",
   "metadata": {},
   "source": [
    "## Export flux-distribution for each run (glucose level) as input-file for Escher-map visualisation on https://escher.github.io"
   ]
  },
  {
   "cell_type": "code",
   "execution_count": null,
   "metadata": {},
   "outputs": [],
   "source": [
    "Simulation.SimulationData.exportEscherMap()"
   ]
  },
  {
   "cell_type": "markdown",
   "metadata": {},
   "source": [
    "## Export proteome for each run (glucose level) as input-file for Proteo-map visualisation on https://www.proteomaps.net"
   ]
  },
  {
   "cell_type": "code",
   "execution_count": null,
   "metadata": {},
   "outputs": [],
   "source": [
    "Simulation.SimulationData.exportProteoMap()"
   ]
  },
  {
   "cell_type": "markdown",
   "metadata": {},
   "source": [
    "# Performing variability-analysis for glycolysis-reaction at different growth-rates"
   ]
  },
  {
   "cell_type": "markdown",
   "metadata": {},
   "source": [
    "## Define medium and determine maximum-growth-rate"
   ]
  },
  {
   "cell_type": "code",
   "execution_count": null,
   "metadata": {},
   "outputs": [],
   "source": [
    "Simulation.setMedium({'M_glc__D':2})\n",
    "mumax=Simulation.findMaxGrowthRate()\n"
   ]
  },
  {
   "cell_type": "markdown",
   "metadata": {},
   "source": [
    "## Determine the feasible-range of the glycolytic Phosphoglycerate kinase at different fractions of the maximum growth-rate"
   ]
  },
  {
   "cell_type": "code",
   "execution_count": null,
   "metadata": {},
   "outputs": [],
   "source": [
    "Simulation.setMu(mumax*0.5)\n",
    "FR_PGK_05=Simulation.FeasibleRange(variables='R_PGK')\n",
    "\n",
    "Simulation.setMu(mumax*0.6)\n",
    "FR_PGK_06=Simulation.FeasibleRange(variables='R_PGK')\n",
    "\n",
    "Simulation.setMu(mumax*0.7)\n",
    "FR_PGK_07=Simulation.FeasibleRange(variables='R_PGK')\n",
    "\n",
    "Simulation.setMu(mumax*0.8)\n",
    "FR_PGK_08=Simulation.FeasibleRange(variables='R_PGK')\n",
    "\n",
    "\n",
    "Simulation.setMu(mumax*0.9)\n",
    "FR_PGK_09=Simulation.FeasibleRange(variables='R_PGK')\n",
    "\n",
    "Simulation.setMu(mumax*0.999999)\n",
    "FR_PGK_0999999=Simulation.FeasibleRange(variables='R_PGK')\n",
    "\n"
   ]
  },
  {
   "cell_type": "markdown",
   "metadata": {},
   "source": [
    "## Plot the evolution of the feasible-range at different growth-rates"
   ]
  },
  {
   "cell_type": "code",
   "execution_count": null,
   "metadata": {},
   "outputs": [],
   "source": [
    "Mins=[FR_PGK_05['R_PGK']['Min'],FR_PGK_06['R_PGK']['Min'],FR_PGK_07['R_PGK']['Min'],FR_PGK_08['R_PGK']['Min'],FR_PGK_09['R_PGK']['Min'],FR_PGK_0999999['R_PGK']['Min']]\n",
    "Maxs=[FR_PGK_05['R_PGK']['Max'],FR_PGK_06['R_PGK']['Max'],FR_PGK_07['R_PGK']['Max'],FR_PGK_08['R_PGK']['Max'],FR_PGK_09['R_PGK']['Max'],FR_PGK_0999999['R_PGK']['Max']]\n",
    "Mus=[mumax*0.5,mumax*0.6,mumax*0.7,mumax*0.8,mumax*0.9,mumax*0.999999]\n",
    "\n",
    "plt.figure(figsize=(9,6))\n",
    "plt.scatter(Mus,Mins,color='red')\n",
    "plt.scatter(Mus,Maxs,color='blue')\n",
    "\n",
    "plt.title('Feasible-range of PGK-reaction vs. growth-rate',fontsize=20)\n",
    "plt.xlabel('Growth-rate',fontsize=15)\n",
    "plt.ylabel('Flux',fontsize=15)\n",
    "plt.legend(['Upper-limit of feasible-range','Lower-limit of feasible-range'])\n"
   ]
  },
  {
   "cell_type": "markdown",
   "metadata": {},
   "source": [
    "# Determine the Pareto-front between two different glucose-uptake systems (PTS-system and proton-symport) for the wild-type and a knock-out of the upper Pentose-Phosphate-Pathway "
   ]
  },
  {
   "cell_type": "markdown",
   "metadata": {},
   "source": [
    "## Set growth-rate to 99,9999% of the maximum and determine the Pareto-front between the GLCptspp-reaction and the GLCt2pp-reaction"
   ]
  },
  {
   "cell_type": "code",
   "execution_count": null,
   "metadata": {},
   "outputs": [],
   "source": [
    "Simulation.setMu(mumax*0.999999)\n",
    "Pareto_Front_1=Simulation.ParetoFront(variable_X='R_GLCptspp', variable_Y='R_GLCt2pp', N=10, sign_VY='max')"
   ]
  },
  {
   "cell_type": "markdown",
   "metadata": {},
   "source": [
    "## Display the output data-structure of the Pareto-front analysis"
   ]
  },
  {
   "cell_type": "code",
   "execution_count": null,
   "metadata": {},
   "outputs": [],
   "source": [
    "print(Pareto_Front_1)"
   ]
  },
  {
   "cell_type": "markdown",
   "metadata": {},
   "source": [
    "## I want to knock-out the G6PDH2r-reaction in the upper Pentose-Phosphate-Pathway. So I have to look up, which gene is responsible for constructing the respective enzyme 'R_G6PDH2r_enzyme'"
   ]
  },
  {
   "cell_type": "code",
   "execution_count": null,
   "metadata": {},
   "outputs": [],
   "source": [
    "Simulation.ModelStructure.EnzymeInfo.Elements['R_G6PDH2r_enzyme']"
   ]
  },
  {
   "cell_type": "markdown",
   "metadata": {},
   "source": [
    "## Knocking out the gene b1852, which makes up the enzyme of the G6PDH2r-reaction"
   ]
  },
  {
   "cell_type": "code",
   "execution_count": null,
   "metadata": {},
   "outputs": [],
   "source": [
    "Simulation.knockOut(gene='b1852', loggingIntermediateSteps=False)\n"
   ]
  },
  {
   "cell_type": "markdown",
   "metadata": {},
   "source": [
    "## Determining maximum growth-rate of knock-out strain"
   ]
  },
  {
   "cell_type": "code",
   "execution_count": null,
   "metadata": {},
   "outputs": [],
   "source": [
    "mumax2=Simulation.findMaxGrowthRate()\n"
   ]
  },
  {
   "cell_type": "markdown",
   "metadata": {},
   "source": [
    "## Set growth-rate to 99,9999% of the maximum and determine the Pareto-front between the GLCptspp-reaction and the GLCt2pp-reaction for the KO-strain"
   ]
  },
  {
   "cell_type": "code",
   "execution_count": null,
   "metadata": {},
   "outputs": [],
   "source": [
    "Simulation.setMu(mumax2*0.999999)\n",
    "Pareto_Front_2=Simulation.ParetoFront(variable_X='R_GLCptspp', variable_Y='R_GLCt2pp', N=10, sign_VY='max')"
   ]
  },
  {
   "cell_type": "markdown",
   "metadata": {},
   "source": [
    "## Plot the Pareto-fronts for the WT- and KO-strain"
   ]
  },
  {
   "cell_type": "code",
   "execution_count": null,
   "metadata": {},
   "outputs": [],
   "source": [
    "plt.figure(figsize=(9,6))\n",
    "plt.scatter(Pareto_Front_1['R_GLCptspp'],Pareto_Front_1['R_GLCt2pp'],color='blue')\n",
    "plt.scatter(Pareto_Front_2['R_GLCptspp'],Pareto_Front_2['R_GLCt2pp'],color='red')\n",
    "plt.title('Pareto-front between two glucose-uptake systems',fontsize=20)\n",
    "plt.xlabel('R_GLCptspp flux',fontsize=15)\n",
    "plt.ylabel('R_GLCt2pp flux',fontsize=15)\n",
    "plt.legend(['Wild-Type (Mu={})'.format(str(round(mumax*0.999999,2))),'Upper PPP-KO (Mu={})'.format(str(round(mumax2*0.999999,2)))])\n",
    "plt.ylim(bottom=0)\n",
    "plt.show()"
   ]
  },
  {
   "cell_type": "code",
   "execution_count": null,
   "metadata": {},
   "outputs": [],
   "source": []
  }
 ],
 "metadata": {
  "kernelspec": {
   "display_name": "Python 3",
   "language": "python",
   "name": "python3"
  },
  "language_info": {
   "codemirror_mode": {
    "name": "ipython",
    "version": 3
   },
   "file_extension": ".py",
   "mimetype": "text/x-python",
   "name": "python",
   "nbconvert_exporter": "python",
   "pygments_lexer": "ipython3",
   "version": "3.6.5"
  }
 },
 "nbformat": 4,
 "nbformat_minor": 2
}