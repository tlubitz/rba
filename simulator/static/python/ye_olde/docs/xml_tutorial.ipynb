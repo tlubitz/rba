{
 "cells": [
  {
   "cell_type": "markdown",
   "metadata": {},
   "source": [
    "# Creation of a minimal RBA model using RBApy's xml module.\n",
    "\n",
    "In this section, we'll create a cell that magically transforms a carbon source into biomass. This example will walk us through the basic elements of an RBA model, as well as RBApy's interface for creating/modifying models.\n",
    "\n",
    "## Creation of an empty model with RBApy\n",
    "\n",
    "Let's start by loading the RBApy package and creating an empty RBA model:"
   ]
  },
  {
   "cell_type": "code",
   "execution_count": 1,
   "metadata": {
    "collapsed": true
   },
   "outputs": [],
   "source": [
    "import rba\n",
    "\n",
    "my_model = rba.RbaModel()"
   ]
  },
  {
   "cell_type": "markdown",
   "metadata": {},
   "source": [
    "The model contains all the XML substructures, but nothing is instantiated yet:"
   ]
  },
  {
   "cell_type": "code",
   "execution_count": 2,
   "metadata": {},
   "outputs": [
    {
     "name": "stdout",
     "output_type": "stream",
     "text": [
      "{'_constraint_matrix': None, 'output_dir': '', 'enzymes': <rba.xml.enzymes.RbaEnzymes object at 0x10cd85cf8>, 'rnas': <rba.xml.macromolecules.RbaMacromolecules object at 0x10cd70128>, 'proteins': <rba.xml.macromolecules.RbaMacromolecules object at 0x10b3d09e8>, 'targets': <rba.xml.targets.RbaTargets object at 0x180de825c0>, 'parameters': <rba.xml.parameters.RbaParameters object at 0x103e548d0>, 'dna': <rba.xml.macromolecules.RbaMacromolecules object at 0x180de6ea90>, 'density': <rba.xml.density.RbaDensity object at 0x103e54080>, 'processes': <rba.xml.processes.RbaProcesses object at 0x180de6ec18>, 'medium': {}, 'metabolism': <rba.xml.metabolism.RbaMetabolism object at 0x103e39ef0>}\n",
      "<rba.xml.metabolism.ListOfCompartments object at 0x103dcdac8> has length 0\n"
     ]
    }
   ],
   "source": [
    "print(vars(my_model))\n",
    "print(str(my_model.metabolism.compartments) + ' has length ' + str(len(my_model.metabolism.compartments)))"
   ]
  },
  {
   "cell_type": "markdown",
   "metadata": {},
   "source": [
    "We can write our empty model to files, then reload them:"
   ]
  },
  {
   "cell_type": "code",
   "execution_count": 3,
   "metadata": {
    "collapsed": true
   },
   "outputs": [],
   "source": [
    "import os\n",
    "\n",
    "if not os.path.exists(\"minimal_example\"):\n",
    "    os.mkdir('minimal_example')\n",
    "my_model.write('minimal_example/', )\n",
    "my_model = rba.RbaModel.from_xml('minimal_example')\n",
    "%less minimal_example/metabolism.xml"
   ]
  },
  {
   "cell_type": "markdown",
   "metadata": {},
   "source": [
    "## metabolism.xml: compartments, metabolites and reactions\n",
    "\n",
    "We'll start by populating the Metabolism substructure, which contains compartments, metabolites and metabolic reactions.\n",
    "\n",
    "In our minimal cell, we will consider three metabolites: a carbon source, a protein component precursor (used to build proteins) and a vital metabolite (used to accumulate biomass). The carbon source is present in two forms: extracellular carbon source, and intracellular carbon source.\n",
    "\n",
    "Let's add these metabolites to the model!"
   ]
  },
  {
   "cell_type": "code",
   "execution_count": 4,
   "metadata": {
    "collapsed": true
   },
   "outputs": [],
   "source": [
    "my_model.metabolism.species.append(rba.xml.Species('M_carbon_source_e', boundary_condition = True))\n",
    "my_model.metabolism.species.append(rba.xml.Species('M_carbon_source_c', boundary_condition = False))\n",
    "my_model.metabolism.species.append(rba.xml.Species('M_protein_component_precursor_c', boundary_condition = False))\n",
    "my_model.metabolism.species.append(rba.xml.Species('M_biomass_c', boundary_condition = False))                                   "
   ]
  },
  {
   "cell_type": "markdown",
   "metadata": {},
   "source": [
    "Every time we want to create an XML element, we access its class in the `rba.xml` subpackage, then append it to the list where it belongs.\n",
    "\n",
    "We use the following conventions: every metabolite id starts with `M_` and ends with a suffix that indicates its compartment, e.g. `_e` is the extracellular space. `boundary_condition` is set to `True` for extracellular species, indicating that their concentration is determined by the medium composition.\n",
    "\n",
    "We can check that the list of species has been updated:"
   ]
  },
  {
   "cell_type": "code",
   "execution_count": 5,
   "metadata": {},
   "outputs": [
    {
     "name": "stdout",
     "output_type": "stream",
     "text": [
      "4\n",
      "M_carbon_source_e\n"
     ]
    }
   ],
   "source": [
    "print(len(my_model.metabolism.species))\n",
    "print(my_model.metabolism.species[0].id)\n",
    "my_model.write()\n",
    "%less minimal_example/metabolism.xml"
   ]
  },
  {
   "cell_type": "markdown",
   "metadata": {},
   "source": [
    "Note that this time, we do not need to specify where to write the model, it will automatically override the last location where we wrote it.\n",
    "Let's continue by adding the compartments: the extracellular space and the cytosol."
   ]
  },
  {
   "cell_type": "code",
   "execution_count": 6,
   "metadata": {
    "collapsed": true
   },
   "outputs": [],
   "source": [
    "my_model.metabolism.compartments.append(rba.xml.Compartment('extracellular'))\n",
    "my_model.metabolism.compartments.append(rba.xml.Compartment('cytosol'))\n",
    "my_model.write()\n",
    "%less minimal_example/metabolism.xml"
   ]
  },
  {
   "cell_type": "markdown",
   "metadata": {},
   "source": [
    "Finally let's create some reactions:"
   ]
  },
  {
   "cell_type": "code",
   "execution_count": 7,
   "metadata": {
    "collapsed": true
   },
   "outputs": [],
   "source": [
    "reaction_1 = rba.xml.Reaction('R_transport', reversible = False)\n",
    "reaction_1.reactants.append(rba.xml.SpeciesReference('M_carbon_source_e', 1))\n",
    "reaction_1.products.append(rba.xml.SpeciesReference('M_carbon_source_c', 1))\n",
    "reaction_2 = rba.xml.Reaction('R_protein_component_precursor', reversible = False)\n",
    "reaction_2.reactants.append(rba.xml.SpeciesReference('M_carbon_source_c', 1))\n",
    "reaction_2.products.append(rba.xml.SpeciesReference('M_protein_component_precursor_c', 1))\n",
    "reaction_3 = rba.xml.Reaction('R_biomass', reversible = False)\n",
    "reaction_3.reactants.append(rba.xml.SpeciesReference('M_carbon_source_c', 1))\n",
    "reaction_3.products.append(rba.xml.SpeciesReference('M_biomass_c', 1))\n",
    "my_model.metabolism.reactions.append(reaction_1)\n",
    "my_model.metabolism.reactions.append(reaction_2)\n",
    "my_model.metabolism.reactions.append(reaction_3)\n",
    "my_model.write()\n",
    "%less minimal_example/metabolism.xml"
   ]
  },
  {
   "cell_type": "markdown",
   "metadata": {},
   "source": [
    "...and add the medium concentration for our extracellular species:"
   ]
  },
  {
   "cell_type": "code",
   "execution_count": 8,
   "metadata": {
    "collapsed": true
   },
   "outputs": [],
   "source": [
    "my_model.medium['M_carbon_source'] = 10\n",
    "my_model.write()\n",
    "%less minimal_example/medium.tsv"
   ]
  },
  {
   "cell_type": "markdown",
   "metadata": {},
   "source": [
    "Here we go, we have successfully created a cell that is able to import a carbon source and create biomass from it! We can already go ahead and solve it:"
   ]
  },
  {
   "cell_type": "code",
   "execution_count": 9,
   "metadata": {},
   "outputs": [
    {
     "name": "stdout",
     "output_type": "stream",
     "text": [
      "Warning: did not find enzymes for following reactions: R_transport, R_protein_component_precursor, R_biomass\n"
     ]
    },
    {
     "data": {
      "text/plain": [
       "2.5"
      ]
     },
     "execution_count": 9,
     "metadata": {},
     "output_type": "execute_result"
    }
   ],
   "source": [
    "results = my_model.solve()\n",
    "results.mu_opt"
   ]
  },
  {
   "cell_type": "markdown",
   "metadata": {},
   "source": [
    "We obtain infinite growth rate (growth rate is capped at 2.5)! Indeed, there is no constraint on our reactions so far, our cell is theoretically able to take up the carbon source and transform it to biomass at an infinite rate (hence the warnings)! We need enzymes in our model! But before we can define enzymes, we need to define proteins!"
   ]
  },
  {
   "cell_type": "markdown",
   "metadata": {},
   "source": [
    "## proteins.xml, rnas.xml, dna.xml: macromolecules\n",
    "\n",
    "The model contains 3 macromolecule files: one for proteins, one for RNAs, one for DNA. In this example, we'll ignore RNAs and DNA, but note that the format of the 3 files is strictly the same, so proteins will cover it all.\n",
    "\n",
    "In an RBA model, a macromolecule is an assembly of components: proteins are composed of amino acid residues (and vitamins and ions), RNAs and DNA out of nucleotides. How these components were assembled from metabolites will be covered at a later stage, when we talk about processes. Currently, all we want to provide is a static descriptions of the composition of macromolecules in the system.\n",
    "\n",
    "We will include two proteins in our model, and say that they are composed out of protein component residues. Let's start with the definition of components:"
   ]
  },
  {
   "cell_type": "code",
   "execution_count": 10,
   "metadata": {
    "collapsed": true
   },
   "outputs": [],
   "source": [
    "my_model.proteins.components.append(rba.xml.Component(id_='protein_component_residue', name='Protein residue', type_='residue', weight=1))"
   ]
  },
  {
   "cell_type": "markdown",
   "metadata": {},
   "source": [
    "`name` and `type` are two labelling attributes that can be used for human readability, but they have no influence on the simulations. `weight` is more important: it indicates how much volume is taken up by one component. The unit is arbitrary: here we will consider that the protein residue defines the unit volume.\n",
    "\n",
    "Now let's define two proteins as a sum of components:"
   ]
  },
  {
   "cell_type": "code",
   "execution_count": 11,
   "metadata": {
    "collapsed": true
   },
   "outputs": [],
   "source": [
    "protein_1 = rba.xml.Macromolecule('small_protein', 'cytosol')\n",
    "protein_1.composition.append(rba.xml.ComponentReference('protein_component_residue', 10))\n",
    "my_model.proteins.macromolecules.append(protein_1)\n",
    "protein_2 = rba.xml.Macromolecule('large_protein', 'cytosol')\n",
    "protein_2.composition.append(rba.xml.ComponentReference('protein_component_residue', 20))\n",
    "my_model.proteins.macromolecules.append(protein_2)"
   ]
  },
  {
   "cell_type": "markdown",
   "metadata": {},
   "source": [
    "Our two proteins are located in the cytosol (one of the compartments we defined earlier). The small proteins contains 10 residues (volume 10), the large protein contains 20 residues (volume 20).\n",
    "\n",
    "That's all we need for our proteins, let's wrap it up:"
   ]
  },
  {
   "cell_type": "code",
   "execution_count": 12,
   "metadata": {
    "collapsed": true
   },
   "outputs": [],
   "source": [
    "my_model.write()\n",
    "%less minimal_example/proteins.xml"
   ]
  },
  {
   "cell_type": "markdown",
   "metadata": {},
   "source": [
    "## enzymes.xml: catalytic constraints\n",
    "\n",
    "We can finally build our enzymes: we have reactions that await to be constrained, and proteins to serve as building blocks for our enzymes!\n",
    "\n",
    "Let's start by adding catalytic constants for our transport reaction:"
   ]
  },
  {
   "cell_type": "code",
   "execution_count": 13,
   "metadata": {
    "collapsed": true
   },
   "outputs": [],
   "source": [
    "enzyme_1 = rba.xml.Enzyme(id_='R_transport_enzyme', reaction='R_transport', forward_efficiency='kcat_transport', backward_efficiency='zero')\n",
    "enzyme_1.machinery_composition.reactants.append(rba.xml.SpeciesReference('large_protein', 2))\n",
    "my_model.enzymes.enzymes.append(enzyme_1)"
   ]
  },
  {
   "cell_type": "markdown",
   "metadata": {},
   "source": [
    "We just defined an enzyme composed of 2 large proteins, catalyzing the reaction `R_transport`, with an efficiency given by parameters `kcat_transport` and `zero`. Note that efficiences *cannot* be numerical values, they must be parameter ids. What are parameters? Oh right, we haven't defined parameters yet, but we will do so in the next session!\n",
    "\n",
    "Let's add enzymes for our other reactions, then update our model:"
   ]
  },
  {
   "cell_type": "code",
   "execution_count": 14,
   "metadata": {
    "collapsed": true
   },
   "outputs": [],
   "source": [
    "enzyme_2 = rba.xml.Enzyme(id_='R_protein_precursor_enzyme', reaction='R_protein_component_precursor', forward_efficiency='kcat_precursor', backward_efficiency='zero')\n",
    "enzyme_2.machinery_composition.reactants.append(rba.xml.SpeciesReference('small_protein', 2))\n",
    "my_model.enzymes.enzymes.append(enzyme_2)\n",
    "enzyme_3 = rba.xml.Enzyme(id_='R_biomass_enzyme', reaction='R_biomass', forward_efficiency='kcat_biomass', backward_efficiency='zero')\n",
    "enzyme_3.machinery_composition.reactants.append(rba.xml.SpeciesReference('small_protein', 1))\n",
    "enzyme_3.machinery_composition.reactants.append(rba.xml.SpeciesReference('large_protein', 1))\n",
    "my_model.enzymes.enzymes.append(enzyme_3)"
   ]
  },
  {
   "cell_type": "code",
   "execution_count": 15,
   "metadata": {
    "collapsed": true
   },
   "outputs": [],
   "source": [
    "my_model.write()\n",
    "%less minimal_example/enzymes.xml"
   ]
  },
  {
   "cell_type": "markdown",
   "metadata": {},
   "source": [
    "## parameters.xml: centralizing all model parameters\n",
    "\n",
    "The only file where numerical values are allowed is the parameter file! In other files, whenever you want to define an efficiency, a flux, a concentration, you must provide a parameter identifier. All parameters are centralized: if you want to keep the same system but play around with parameter values, this is the only file you need to modify!\n",
    "\n",
    "By default, a parameter is seen as a function of growth rate. There are a limited number of function types that you may define: 'constant', 'linear', 'exponential', 'michaelisMenten' and 'inverse'. Every function has its own parameters (see document with complete description of the XML format for more details.). Let's define our catalytic activities using constants:"
   ]
  },
  {
   "cell_type": "code",
   "execution_count": 16,
   "metadata": {
    "collapsed": true
   },
   "outputs": [],
   "source": [
    "parameter_1 = rba.xml.Function('kcat_transport_base', 'constant', {'CONSTANT': 10})\n",
    "my_model.parameters.functions.append(parameter_1)\n",
    "parameter_2 = rba.xml.Function('kcat_precursor', 'constant', {'CONSTANT': 10})\n",
    "my_model.parameters.functions.append(parameter_2)\n",
    "parameter_3 = rba.xml.Function('kcat_biomass', 'constant', {'CONSTANT': 10})\n",
    "my_model.parameters.functions.append(parameter_3)\n",
    "parameter_4 = rba.xml.Function('zero', 'constant', {'CONSTANT': 0})\n",
    "my_model.parameters.functions.append(parameter_4)"
   ]
  },
  {
   "cell_type": "markdown",
   "metadata": {},
   "source": [
    "Constant functions have a single parameter called `CONSTANT`, that's all we need here!\n",
    "\n",
    "Now what if we would like our transport efficiency to depend on the concentration of our extracellular carbon source? Function variables may also be defined as medium concentrations. Earlier, we defined a medium concentration 'M_carbon_source' (with value 10). We can reuse this id to define a function:"
   ]
  },
  {
   "cell_type": "code",
   "execution_count": 17,
   "metadata": {
    "collapsed": true
   },
   "outputs": [],
   "source": [
    "parameter_4 = rba.xml.Function('transport_factor', 'michaelisMenten', {'kmax': 1, 'Km': 0.5}, variable='M_carbon_source_e')\n",
    "my_model.parameters.functions.append(parameter_4)"
   ]
  },
  {
   "cell_type": "markdown",
   "metadata": {},
   "source": [
    "But wait! In the previous section, we said that the transporter had forward efficiency `kcat_transport`. Instead, we defined two parameters: `kcat_transport_base`, the base efficiency, and `transport_factor`, a factor that modulates the base efficiency based on the concentration of the metabolite that's imported!\n",
    "\n",
    "In that case, we need to use an Aggregate to combine the two parameters: we obtain the overall transporter efficiency by multiplying the base efficiency by the transport factor:"
   ]
  },
  {
   "cell_type": "code",
   "execution_count": 18,
   "metadata": {
    "collapsed": true
   },
   "outputs": [],
   "source": [
    "aggregate_1 = rba.xml.Aggregate('kcat_transport', type_='multiplication')\n",
    "aggregate_1.function_references.append(rba.xml.FunctionReference('kcat_transport_base'))\n",
    "aggregate_1.function_references.append(rba.xml.FunctionReference('transport_factor'))\n",
    "my_model.parameters.aggregates.append(aggregate_1)"
   ]
  },
  {
   "cell_type": "markdown",
   "metadata": {},
   "source": [
    "We have defined all the parameters we needed so far. Let's take a look at the result:"
   ]
  },
  {
   "cell_type": "code",
   "execution_count": 19,
   "metadata": {
    "collapsed": true
   },
   "outputs": [],
   "source": [
    "my_model.write()\n",
    "%less minimal_example/parameters.xml"
   ]
  },
  {
   "cell_type": "markdown",
   "metadata": {},
   "source": [
    "Let's go even further and try to solve our model again!"
   ]
  },
  {
   "cell_type": "code",
   "execution_count": 20,
   "metadata": {},
   "outputs": [
    {
     "data": {
      "text/plain": [
       "2.5"
      ]
     },
     "execution_count": 20,
     "metadata": {},
     "output_type": "execute_result"
    }
   ],
   "source": [
    "results = my_model.solve()\n",
    "results.mu_opt"
   ]
  },
  {
   "cell_type": "markdown",
   "metadata": {},
   "source": [
    "Hmm we got rid off the warnings about the missing enzymes, but the growth rate is still infinite... What's going on? The constaints we added specified how many enzymes are needed to sustain a given flux. For example, because kcat is 10, in order to produce a flux of 1 mmol/gCDW/h (????) of `R_biomass`, we need 0.1 mmol of `R_biomass_enzyme`. However, nothing prevents our cell from producing an infinite number of enzymes, achieving infinite fluxes!\n",
    "\n",
    "Remember how enzymes are built out of proteins, proteins out of components and components have some basic volume? We will use this idea to add a constraint on space: a cell should only produce as many enzymes as can be contained in the cytosol!"
   ]
  },
  {
   "cell_type": "markdown",
   "metadata": {},
   "source": [
    "## density.xml: density constraints for compartments\n",
    "\n",
    "For our minimal model, we will consider that the cytosol can contain at most 10,000 protein residues!"
   ]
  },
  {
   "cell_type": "code",
   "execution_count": 21,
   "metadata": {
    "collapsed": true
   },
   "outputs": [],
   "source": [
    "density_constraint = rba.xml.TargetDensity('cytosol')\n",
    "density_constraint.upper_bound = 'maximal_cytosol_density'\n",
    "my_model.density.target_densities.append(density_constraint)"
   ]
  },
  {
   "cell_type": "markdown",
   "metadata": {},
   "source": [
    "A density constraint has 3 attributes: lower_bound, upper_bound and value. The nature of the constraint depends on the attributes that you define. Here we simply specify an upper bound, meaning that the cytosol may contain from 0 to 10 residues. We could also define a lower bound, or specify a fixed value that must be reached.\n",
    "\n",
    "Remember that all numeric values must be defined in the parameter file? Let's add our new parameter right now:"
   ]
  },
  {
   "cell_type": "code",
   "execution_count": 22,
   "metadata": {
    "collapsed": true
   },
   "outputs": [],
   "source": [
    "my_model.parameters.functions.append(rba.xml.Function('maximal_cytosol_density', 'constant', {'CONSTANT': 10}))"
   ]
  },
  {
   "cell_type": "markdown",
   "metadata": {},
   "source": [
    "Let's take a quick look at our density file:"
   ]
  },
  {
   "cell_type": "code",
   "execution_count": 23,
   "metadata": {
    "collapsed": true
   },
   "outputs": [],
   "source": [
    "my_model.write()\n",
    "%less minimal_example/density.xml"
   ]
  },
  {
   "cell_type": "markdown",
   "metadata": {},
   "source": [
    "... and solve our mode again!"
   ]
  },
  {
   "cell_type": "code",
   "execution_count": 24,
   "metadata": {},
   "outputs": [
    {
     "data": {
      "text/plain": [
       "2.5"
      ]
     },
     "execution_count": 24,
     "metadata": {},
     "output_type": "execute_result"
    }
   ],
   "source": [
    "results = my_model.solve()\n",
    "results.mu_opt"
   ]
  },
  {
   "cell_type": "markdown",
   "metadata": {},
   "source": [
    "Hang on a second! The growth rate is still infinite? If you are familiar with FBA, you may notice that something essential is missing in our model: requirements for biomass production. There is currently no production requirement! Our cell is telling us that if it doesn't have to produce anything to grow, it can grow at infinite growth rate!"
   ]
  },
  {
   "cell_type": "markdown",
   "metadata": {},
   "source": [
    "## targets.xml: production requirements\n",
    "\n",
    "Even if for us humans, the `R_biomass` reaction has a transparent name, we need to tell the computer model that this is what it needs to produce in order to grow. In our model, biomass is a generic term that encompasses everything a cell needs to produce in order to divide: cell membranes, cell wall, DNA, etc. We will specify this requirement by indicating that these elements need to be kept at a given concentration for the cell to be viable:"
   ]
  },
  {
   "cell_type": "code",
   "execution_count": 25,
   "metadata": {
    "collapsed": true
   },
   "outputs": [],
   "source": [
    "new_target = rba.xml.TargetSpecies('M_biomass_c')\n",
    "new_target.value = 'target_biomass_production'\n",
    "new_target_group = rba.xml.TargetGroup('biomass_production')\n",
    "new_target_group.concentrations.append(new_target)\n",
    "my_model.targets.target_groups.append(new_target_group)"
   ]
  },
  {
   "cell_type": "markdown",
   "metadata": {},
   "source": [
    "Every production requirement must be part of a target group. This group has no meaning from a computational point of view, it is used to gather requirements that are related. A target can be a species or a reaction. In the case of a reaction, the requirement must be a flux, in the case of a species, it may be a flux or a concentration (see XML specification document for more details).\n",
    "\n",
    "Let's add the parameter that corresponds to our production requirement:"
   ]
  },
  {
   "cell_type": "code",
   "execution_count": 26,
   "metadata": {
    "collapsed": true
   },
   "outputs": [],
   "source": [
    "my_model.parameters.functions.append(rba.xml.Function('target_biomass_production', 'constant', {'CONSTANT': 1}))"
   ]
  },
  {
   "cell_type": "markdown",
   "metadata": {},
   "source": [
    "Finally, let's take a look at our targets file"
   ]
  },
  {
   "cell_type": "code",
   "execution_count": 27,
   "metadata": {
    "collapsed": true
   },
   "outputs": [],
   "source": [
    "my_model.write()\n",
    "%less minimal_example/targets.xml"
   ]
  },
  {
   "cell_type": "markdown",
   "metadata": {},
   "source": [
    "... and solve the model!"
   ]
  },
  {
   "cell_type": "code",
   "execution_count": 28,
   "metadata": {},
   "outputs": [
    {
     "data": {
      "text/plain": [
       "1.3888883590698242"
      ]
     },
     "execution_count": 28,
     "metadata": {},
     "output_type": "execute_result"
    }
   ],
   "source": [
    "results = my_model.solve()\n",
    "results.mu_opt"
   ]
  },
  {
   "cell_type": "markdown",
   "metadata": {},
   "source": [
    "We did it! Now we can play with the maximal density parameter and check how it influences the estimated growth rate!"
   ]
  },
  {
   "cell_type": "code",
   "execution_count": 29,
   "metadata": {},
   "outputs": [
    {
     "name": "stdout",
     "output_type": "stream",
     "text": [
      "1.3888883590698242\n",
      "0.13888835906982422\n"
     ]
    }
   ],
   "source": [
    "maximal_density_fn = my_model.parameters.functions.get_by_id('maximal_cytosol_density')\n",
    "maximal_density = maximal_density_fn.parameters.get_by_id('CONSTANT')\n",
    "maximal_density.value = 10\n",
    "results = my_model.solve()\n",
    "print(results.mu_opt)\n",
    "maximal_density.value = 1\n",
    "results = my_model.solve()\n",
    "print(results.mu_opt)"
   ]
  },
  {
   "cell_type": "markdown",
   "metadata": {},
   "source": [
    "Even though we have escaped infinite growth rate, our model is still missing a very important part. So far, we have constrained our cell to produce biomass to grow. In order to produce biomass, the cell must use its metabolic reactions. In order to use these reactions, it needs to produce enzymes. In order to produce enzymes, it needs to produce proteins. However, we have not told it how proteins are made!\n",
    "\n",
    "Currently, our cell only knows how to compute the proteins' volume, which is enough to keep growth rate finite, but it does not know how to assemble proteins from metabolites. By default, it assumes that there is nothing to assemble: our proteins (and hence our enzymes) appear out of thin air, at no cost!\n",
    "\n",
    "This situation is remedied by Processes, which can be seen as a meta-reaction that specifies how macromolecule components are built out of metabolites."
   ]
  },
  {
   "cell_type": "markdown",
   "metadata": {},
   "source": [
    "## processes.xml: macromolecule production\n",
    "\n",
    "We will create a process that tells our cell how it should build the protein's components, which we called `protein_component_residue` earlier. In a realistic model, we would have to specify how every amino acid residue is assembled from charged tRNAs and GTP, releasing uncharged tRNAs and GDP in the process. For our simplified example, we will simply assume that a `protein_component_residue` is obtained by combining a `protein_component_precursor` and a `carbon_source` (for energy). We will also assume that a `carbon_source` is necessary to initiate translation (for energy).\n",
    "\n",
    "These component production reactions are stored in a ProcessingMap:"
   ]
  },
  {
   "cell_type": "code",
   "execution_count": 30,
   "metadata": {
    "collapsed": true
   },
   "outputs": [],
   "source": [
    "new_map = rba.xml.ProcessingMap(id_='translation_map')\n",
    "new_map.constant_processing.reactants.append(rba.xml.SpeciesReference('M_carbon_source_c', 1))\n",
    "residue_processing = rba.xml.ComponentProcessing(component='protein_component_residue')\n",
    "residue_processing.reactants.append(rba.xml.SpeciesReference('M_protein_component_precursor_c', 1))\n",
    "residue_processing.reactants.append(rba.xml.SpeciesReference('M_carbon_source_c', 1))\n",
    "new_map.component_processings.append(residue_processing)\n",
    "my_model.processes.processing_maps.append(new_map)"
   ]
  },
  {
   "cell_type": "markdown",
   "metadata": {},
   "source": [
    "We need to define one ComponentProcessing per component. Because we only have one component, our job is done! Let's take a look at the updated processes file:"
   ]
  },
  {
   "cell_type": "code",
   "execution_count": 31,
   "metadata": {
    "collapsed": true
   },
   "outputs": [],
   "source": [
    "my_model.write()\n",
    "%less minimal_example/processes.xml"
   ]
  },
  {
   "cell_type": "markdown",
   "metadata": {},
   "source": [
    "Now let's create a translation process based on this ProcessingMap:"
   ]
  },
  {
   "cell_type": "code",
   "execution_count": 32,
   "metadata": {
    "collapsed": true
   },
   "outputs": [],
   "source": [
    "translation = rba.xml.Process(id_='translation', name='Translation process')\n",
    "processing = rba.xml.Processing(map_='translation_map', set_='protein')\n",
    "for protein in my_model.proteins.macromolecules:\n",
    "    processing.inputs.append(rba.xml.SpeciesReference(protein.id, 1))\n",
    "translation.processings.productions.append(processing)\n",
    "my_model.processes.processes.append(translation)"
   ]
  },
  {
   "cell_type": "markdown",
   "metadata": {},
   "source": [
    "A process can define how macromolecules are produced or degraded. The Processing structure is used to select macromolecules that enter the process (through the set - protein, rna or, dna - and ids within that set) and how they are assembled (resp. degraded) component-wise by pointing to a ProcessingMap.\n",
    "\n",
    "Note that a process can theoretically contain several sets of input and ProcessingMaps. Conversely, a macromolecule can be listed as input of several processes. In the end, the production (resp. degradation) reaction of a macromolecule is obtained by combining all the ProcessingMaps of the processes it is an input of."
   ]
  },
  {
   "cell_type": "code",
   "execution_count": 33,
   "metadata": {
    "collapsed": true
   },
   "outputs": [],
   "source": [
    "my_model.write()\n",
    "%less minimal_example/processes.xml"
   ]
  },
  {
   "cell_type": "markdown",
   "metadata": {},
   "source": [
    "Let's see how that change affected growth rate!"
   ]
  },
  {
   "cell_type": "code",
   "execution_count": 34,
   "metadata": {},
   "outputs": [
    {
     "data": {
      "text/plain": [
       "0.05603671073913574"
      ]
     },
     "execution_count": 34,
     "metadata": {},
     "output_type": "execute_result"
    }
   ],
   "source": [
    "results = my_model.solve()\n",
    "results.mu_opt"
   ]
  },
  {
   "cell_type": "markdown",
   "metadata": {},
   "source": [
    "That's a huge drop in growth rate! Building enzymes is extremely costly! However, we can make this even worse! So far we have implicitly assumed that proteins assemble spontaneously: there is no ribosome!\n",
    "\n",
    "We can add a molecular machinery to a process through the Machinery stucture:"
   ]
  },
  {
   "cell_type": "code",
   "execution_count": 35,
   "metadata": {
    "collapsed": true
   },
   "outputs": [],
   "source": [
    "ribosome = rba.xml.Machinery()\n",
    "ribosome.machinery_composition.reactants.append(rba.xml.SpeciesReference('small_protein', 1))\n",
    "ribosome.machinery_composition.reactants.append(rba.xml.SpeciesReference('large_protein', 1))\n",
    "my_model.processes.processes.get_by_id('translation').machinery = ribosome"
   ]
  },
  {
   "cell_type": "markdown",
   "metadata": {},
   "source": [
    "We successfully created our ribosome, but we still need to specify how much it is needed to assemble individual components:"
   ]
  },
  {
   "cell_type": "code",
   "execution_count": 36,
   "metadata": {
    "collapsed": true
   },
   "outputs": [],
   "source": [
    "translation_map = my_model.processes.processing_maps.get_by_id('translation_map')\n",
    "translation_map.component_processings[0].machinery_cost = 0\n",
    "ribosome.capacity.value = 'ribosome_capacity'\n",
    "my_model.parameters.functions.append(rba.xml.Function('ribosome_capacity', 'constant', {'CONSTANT': 100}))\n"
   ]
  },
  {
   "cell_type": "markdown",
   "metadata": {},
   "source": [
    "The capacity of a process is a parameter that is closely related to enzyme efficiency. It relates to the number of components a machinery can process per unit of time. The exact interpretation of the capacity depends on the `machinery_cost` associated with the components. Because in our example, the `machinery_cost` for assembling a component is 1, our ribosome has the capacity to assemble up to 100 components per unit of time.\n",
    "\n",
    "Similar to density constraints and targets, capacity has 3 attributes `value`, `lower_bound` and `upper_bound`. We can specify whether our ribosome can process up to, at least, or exactly 100 component per second.\n",
    "\n",
    "We finished implementing our process and our minimal example, let's look at the final processes file:"
   ]
  },
  {
   "cell_type": "code",
   "execution_count": 37,
   "metadata": {
    "collapsed": true
   },
   "outputs": [],
   "source": [
    "my_model.write()\n",
    "%less minimal_example/processes.xml"
   ]
  },
  {
   "cell_type": "markdown",
   "metadata": {},
   "source": [
    "We can solve the full model:"
   ]
  },
  {
   "cell_type": "code",
   "execution_count": 38,
   "metadata": {},
   "outputs": [
    {
     "data": {
      "text/plain": [
       "0.05603671073913574"
      ]
     },
     "execution_count": 38,
     "metadata": {},
     "output_type": "execute_result"
    }
   ],
   "source": [
    "results = my_model.solve()\n",
    "results.mu_opt"
   ]
  },
  {
   "cell_type": "markdown",
   "metadata": {},
   "source": [
    "## Parameters.xml: overview of the impact of parameters\n",
    "\n",
    "In this section, we will go back to the parameter file and quickly study how key parameters affect the outcome of the model."
   ]
  },
  {
   "cell_type": "code",
   "execution_count": 39,
   "metadata": {},
   "outputs": [],
   "source": [
    "%less minimal_example/parameters.xml\n",
    "maximal_density = my_model.parameters.functions.get_by_id('maximal_cytosol_density').parameters.get_by_id('CONSTANT')\n",
    "transport_kcat = my_model.parameters.functions.get_by_id('kcat_transport_base').parameters.get_by_id('CONSTANT')\n",
    "precursor_kcat = my_model.parameters.functions.get_by_id('kcat_precursor').parameters.get_by_id('CONSTANT')\n",
    "biomass_kcat = my_model.parameters.functions.get_by_id('kcat_biomass').parameters.get_by_id('CONSTANT')\n",
    "ribosome_capacity = my_model.parameters.functions.get_by_id('ribosome_capacity').parameters.get_by_id('CONSTANT')"
   ]
  },
  {
   "cell_type": "markdown",
   "metadata": {},
   "source": [
    "The growth rate is either limited by the density constraints or the catalytic constraints. If we keep increasing the maximal density, the solution remains bounded:"
   ]
  },
  {
   "cell_type": "code",
   "execution_count": 40,
   "metadata": {},
   "outputs": [
    {
     "name": "stdout",
     "output_type": "stream",
     "text": [
      "0.08795976638793945\n",
      "0.09327113628387451\n",
      "0.09383797645568848\n",
      "0.09389519691467285\n"
     ]
    }
   ],
   "source": [
    "maximal_density.value = 10\n",
    "results = my_model.solve()\n",
    "print(results.mu_opt)\n",
    "maximal_density.value = 100\n",
    "results = my_model.solve()\n",
    "print(results.mu_opt)\n",
    "maximal_density.value = 1000\n",
    "results = my_model.solve()\n",
    "print(results.mu_opt)\n",
    "maximal_density.value = 10000\n",
    "results = my_model.solve()\n",
    "print(results.mu_opt)"
   ]
  },
  {
   "cell_type": "markdown",
   "metadata": {},
   "source": [
    "Roughly speaking, there is a point where importing the carbon source is not worth it anymore because it is entirely consumed to make new enzymes. We can increase the growth rate by increasing enzyme efficiencies:"
   ]
  },
  {
   "cell_type": "code",
   "execution_count": 41,
   "metadata": {},
   "outputs": [
    {
     "name": "stdout",
     "output_type": "stream",
     "text": [
      "0.938953161239624\n"
     ]
    }
   ],
   "source": [
    "transport_kcat.value = 100\n",
    "precursor_kcat.value = 100\n",
    "biomass_kcat.value = 100\n",
    "results = my_model.solve()\n",
    "print(results.mu_opt)"
   ]
  },
  {
   "cell_type": "markdown",
   "metadata": {},
   "source": [
    "By increasing the capacity of enzymes, the cell produces them in smaller concentrations, which means more energy for biomass. In our example, the system is strongly limited by the transport reaction:"
   ]
  },
  {
   "cell_type": "code",
   "execution_count": 42,
   "metadata": {},
   "outputs": [
    {
     "name": "stdout",
     "output_type": "stream",
     "text": [
      "1.161106824874878\n",
      "1.1613553762435913\n"
     ]
    }
   ],
   "source": [
    "precursor_kcat.value = 100000\n",
    "biomass_kcat.value = 100000\n",
    "results = my_model.solve()\n",
    "print(results.mu_opt)\n",
    "precursor_kcat.value = 1000000\n",
    "biomass_kcat.value = 1000000\n",
    "results = my_model.solve()\n",
    "print(results.mu_opt)"
   ]
  },
  {
   "cell_type": "markdown",
   "metadata": {},
   "source": [
    "Modifying the efficiency of the limiting enzyme dramatically affects the growth rate:"
   ]
  },
  {
   "cell_type": "code",
   "execution_count": 43,
   "metadata": {},
   "outputs": [
    {
     "name": "stdout",
     "output_type": "stream",
     "text": [
      "1.1613553762435913\n",
      "2.322656512260437\n",
      "0.5806845426559448\n"
     ]
    }
   ],
   "source": [
    "transport_kcat.value = 100\n",
    "results = my_model.solve()\n",
    "print(results.mu_opt)\n",
    "transport_kcat.value = 200\n",
    "results = my_model.solve()\n",
    "print(results.mu_opt)\n",
    "transport_kcat.value = 50\n",
    "results = my_model.solve()\n",
    "print(results.mu_opt)"
   ]
  },
  {
   "cell_type": "markdown",
   "metadata": {},
   "source": [
    "As mentioned earlier, there is a point where density constraints become stronger than catalytic constraints:"
   ]
  },
  {
   "cell_type": "code",
   "execution_count": 44,
   "metadata": {},
   "outputs": [
    {
     "name": "stdout",
     "output_type": "stream",
     "text": [
      "0.5806845426559448\n",
      "0.577893853187561\n",
      "0.5537021160125732\n",
      "0.3903120756149292\n"
     ]
    }
   ],
   "source": [
    "maximal_density.value = 10000\n",
    "results = my_model.solve()\n",
    "print(results.mu_opt)\n",
    "maximal_density.value = 100\n",
    "results = my_model.solve()\n",
    "print(results.mu_opt)\n",
    "maximal_density.value = 10\n",
    "results = my_model.solve()\n",
    "print(results.mu_opt)\n",
    "maximal_density.value = 1\n",
    "results = my_model.solve()\n",
    "print(results.mu_opt)"
   ]
  },
  {
   "cell_type": "code",
   "execution_count": null,
   "metadata": {
    "collapsed": true
   },
   "outputs": [],
   "source": []
  }
 ],
 "metadata": {
  "kernelspec": {
   "display_name": "Python 3",
   "language": "python",
   "name": "python3"
  },
  "language_info": {
   "codemirror_mode": {
    "name": "ipython",
    "version": 3
   },
   "file_extension": ".py",
   "mimetype": "text/x-python",
   "name": "python",
   "nbconvert_exporter": "python",
   "pygments_lexer": "ipython3",
   "version": "3.5.4"
  }
 },
 "nbformat": 4,
 "nbformat_minor": 2
}
